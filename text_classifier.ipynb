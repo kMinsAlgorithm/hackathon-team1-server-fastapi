{
 "cells": [
  {
   "cell_type": "code",
   "execution_count": 6,
   "metadata": {},
   "outputs": [],
   "source": [
    "!wget -O detector.tflite -q https://storage.googleapis.com/mediapipe-models/language_detector/language_detector/float32/latest/language_detector.tflite"
   ]
  },
  {
   "cell_type": "code",
   "execution_count": 15,
   "metadata": {},
   "outputs": [
    {
     "name": "stdout",
     "output_type": "stream",
     "text": [
      "\u001b[33mWARNING: You are using pip version 22.0.4; however, version 23.2.1 is available.\n",
      "You should consider upgrading via the '/Users/kimmingyu/NestProject/hackathon-team1-server/hackathon-team1-server-fastapi/hack1/bin/python -m pip install --upgrade pip' command.\u001b[0m\u001b[33m\n",
      "\u001b[0m"
     ]
    }
   ],
   "source": [
    "!pip install -q mediapipe==0.10.0"
   ]
  },
  {
   "cell_type": "code",
   "execution_count": 13,
   "metadata": {},
   "outputs": [],
   "source": [
    "INPUT_TEXT = \""
   ]
  },
  {
   "cell_type": "code",
   "execution_count": 14,
   "metadata": {},
   "outputs": [
    {
     "name": "stdout",
     "output_type": "stream",
     "text": [
      "ar-Latn: (0.98)\n"
     ]
    }
   ],
   "source": [
    "# STEP 1: Import the necessary modules.\n",
    "from mediapipe.tasks import python\n",
    "from mediapipe.tasks.python import text\n",
    "\n",
    "# STEP 2: Create a LanguageDetector object.\n",
    "base_options = python.BaseOptions(model_asset_path=\"detector.tflite\")\n",
    "options = text.LanguageDetectorOptions(base_options=base_options)\n",
    "detector = text.LanguageDetector.create_from_options(options)\n",
    "\n",
    "# STEP 3: Get the language detcetion result for the input text.\n",
    "detection_result = detector.detect(INPUT_TEXT)\n",
    "\n",
    "# STEP 4: Process the detection result and print the languages detected and\n",
    "# their scores.\n",
    "\n",
    "for detection in detection_result.detections:\n",
    "  print(f'{detection.language_code}: ({detection.probability:.2f})')"
   ]
  },
  {
   "cell_type": "code",
   "execution_count": 1,
   "metadata": {},
   "outputs": [
    {
     "name": "stdout",
     "output_type": "stream",
     "text": [
      "롯데 손해보험: 3 times\n",
      "MG 손해보험: 8 times\n",
      "교보생명: 7 times\n",
      "농협생명: 7 times\n",
      "한화생명: 3 times\n",
      "DB 손해보험: 12 times\n",
      "농협 손해보험: 4 times\n",
      "DB생명: 7 times\n",
      "한화 손해보험: 22 times\n",
      "현대해상: 7 times\n",
      "삼성생명: 14 times\n",
      "동양생명: 6 times\n",
      "메리츠화재: 7 times\n",
      "삼성화재: 13 times\n",
      "흥국생명: 8 times\n",
      "흥국화재: 5 times\n"
     ]
    }
   ],
   "source": [
    "from collections import Counter\n",
    "\n",
    "data = [\n",
    "    \"롯데 손해보험\", \"MG 손해보험\", \"교보생명\", \"농협생명\", \"한화생명\", \"DB 손해보험\", \"농협 손해보험\", \"DB생명\", \"한화 손해보험\",\n",
    "    \"한화 손해보험\", \"현대해상\", \"삼성생명\", \"동양생명\", \"삼성생명\", \"메리츠화재\", \"삼성화재\", \"흥국생명\", \"흥국화재\", \"한화 손해보험\",\n",
    "    \"농협생명\", \"교보생명\", \"DB생명\", \"흥국생명\", \"삼성생명\", \"한화 손해보험\", \"MG 손해보험\", \"DB 손해보험\", \"삼성생명\",\n",
    "    \"메리츠화재\", \"한화 손해보험\", \"현대해상\", \"삼성화재\", \"교보생명\", \"삼성생명\", \"DB생명\", \"삼성생명\", \"농협생명\", \"MG 손해보험\",\n",
    "    \"동양생명\", \"현대해상\", \"삼성화재\", \"한화 손해보험\", \"흥국생명\", \"한화 손해보험\", \"흥국화재\", \"메리츠화재\", \"롯데 손해보험\",\n",
    "    \"DB 손해보험\", \"농협생명\", \"한화생명\", \"교보생명\", \"DB생명\", \"MG 손해보험\", \"삼성생명\", \"동양생명\", \"한화 손해보험\",\n",
    "    \"메리츠화재\", \"삼성생명\", \"농협 손해보험\", \"흥국생명\", \"삼성화재\", \"한화 손해보험\", \"현대해상\", \"흥국화재\", \"교보생명\",\n",
    "    \"DB생명\", \"농협생명\", \"MG 손해보험\", \"메리츠화재\", \"삼성화재\", \"동양생명\", \"삼성생명\", \"한화 손해보험\", \"삼성생명\",\n",
    "    \"흥국생명\", \"현대해상\", \"한화 손해보험\", \"흥국화재\", \"흥국생명\", \"DB 손해보험\", \"MG 손해보험\", \"한화 손해보험\", \"농협생명\",\n",
    "    \"교보생명\", \"DB생명\", \"농협 손해보험\", \"동양생명\", \"삼성생명\", \"한화 손해보험\", \"DB 손해보험\", \"삼성생명\", \"메리츠화재\",\n",
    "    \"흥국생명\", \"현대해상\", \"MG 손해보험\", \"한화 손해보험\", \"삼성화재\", \"롯데 손해보험\", \"농협생명\", \"교보생명\", \"한화생명\",\n",
    "    \"DB생명\", \"DB 손해보험\", \"농협 손해보험\", \"현대해상\", \"동양생명\", \"삼성생명\", \"메리츠화재\", \"삼성생명\", \"한화 손해보험\",\n",
    "    \"흥국생명\", \"MG 손해보험\", \"삼성화재\", \"한화 손해보험\", \"흥국화재\", \"DB 손해보험\", \"한화 손해보험\", \"삼성화재\",\n",
    "    \"DB 손해보험\", \"한화 손해보험\", \"삼성화재\", \"한화 손해보험\", \"DB 손해보험\", \"삼성화재\", \"DB 손해보험\", \"한화 손해보험\",\n",
    "    \"삼성화재\", \"DB 손해보험\", \"한화 손해보험\", \"삼성화재\", \"DB 손해보험\", \"한화 손해보험\", \"삼성화재\"\n",
    "]\n",
    "\n",
    "# Count the occurrences of each company name\n",
    "company_name_count = Counter(data)\n",
    "\n",
    "# Print the company names and their counts\n",
    "for company_name, count in company_name_count.items():\n",
    "    print(f\"{company_name}: {count} times\")\n"
   ]
  },
  {
   "cell_type": "code",
   "execution_count": null,
   "metadata": {},
   "outputs": [],
   "source": []
  }
 ],
 "metadata": {
  "kernelspec": {
   "display_name": "hack1",
   "language": "python",
   "name": "python3"
  },
  "language_info": {
   "codemirror_mode": {
    "name": "ipython",
    "version": 3
   },
   "file_extension": ".py",
   "mimetype": "text/x-python",
   "name": "python",
   "nbconvert_exporter": "python",
   "pygments_lexer": "ipython3",
   "version": "3.9.15"
  },
  "orig_nbformat": 4
 },
 "nbformat": 4,
 "nbformat_minor": 2
}
